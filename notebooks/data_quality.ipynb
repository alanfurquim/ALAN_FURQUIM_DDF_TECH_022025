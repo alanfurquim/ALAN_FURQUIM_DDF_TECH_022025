{
 "cells": [
  {
   "cell_type": "code",
   "execution_count": null,
   "metadata": {},
   "outputs": [],
   "source": [
    "pip install matplotlib\n",
    "pip install pandas\n",
    "pip install seaborn\n",
    "pip install textblob"
   ]
  },
  {
   "cell_type": "markdown",
   "metadata": {},
   "source": [
    "### EDA"
   ]
  },
  {
   "cell_type": "markdown",
   "metadata": {},
   "source": [
    "Vamos começar lendo o arquivo e verificando os primeiros dados para saber com o que estamos trabalhando"
   ]
  },
  {
   "cell_type": "code",
   "execution_count": 42,
   "metadata": {},
   "outputs": [],
   "source": [
    "from collections import Counter\n",
    "import matplotlib.pyplot as plt\n",
    "import seaborn as sns\n",
    "import pandas as pd\n",
    "from textblob import TextBlob\n"
   ]
  },
  {
   "cell_type": "code",
   "execution_count": 4,
   "metadata": {},
   "outputs": [
    {
     "data": {
      "text/html": [
       "<div>\n",
       "<style scoped>\n",
       "    .dataframe tbody tr th:only-of-type {\n",
       "        vertical-align: middle;\n",
       "    }\n",
       "\n",
       "    .dataframe tbody tr th {\n",
       "        vertical-align: top;\n",
       "    }\n",
       "\n",
       "    .dataframe thead th {\n",
       "        text-align: right;\n",
       "    }\n",
       "</style>\n",
       "<table border=\"1\" class=\"dataframe\">\n",
       "  <thead>\n",
       "    <tr style=\"text-align: right;\">\n",
       "      <th></th>\n",
       "      <th>order_id</th>\n",
       "      <th>customer_id</th>\n",
       "      <th>order_status</th>\n",
       "      <th>order_purchase_timestamp</th>\n",
       "      <th>order_approved_at</th>\n",
       "      <th>order_delivered_carrier_date</th>\n",
       "      <th>order_delivered_customer_date</th>\n",
       "      <th>order_estimated_delivery_date</th>\n",
       "      <th>order_item_id</th>\n",
       "      <th>product_id</th>\n",
       "      <th>...</th>\n",
       "      <th>product_weight_g</th>\n",
       "      <th>product_length_cm</th>\n",
       "      <th>product_height_cm</th>\n",
       "      <th>product_width_cm</th>\n",
       "      <th>review_id</th>\n",
       "      <th>review_score</th>\n",
       "      <th>review_comment_title</th>\n",
       "      <th>review_comment_message</th>\n",
       "      <th>review_creation_date</th>\n",
       "      <th>review_answer_timestamp</th>\n",
       "    </tr>\n",
       "  </thead>\n",
       "  <tbody>\n",
       "    <tr>\n",
       "      <th>0</th>\n",
       "      <td>e481f51cbdc54678b7cc49136f2d6af7</td>\n",
       "      <td>9ef432eb6251297304e76186b10a928d</td>\n",
       "      <td>delivered</td>\n",
       "      <td>2017-10-02 10:56:33</td>\n",
       "      <td>2017-10-02 11:07:15</td>\n",
       "      <td>2017-10-04 19:55:00</td>\n",
       "      <td>2017-10-10 21:25:13</td>\n",
       "      <td>2017-10-18 00:00:00</td>\n",
       "      <td>1.0</td>\n",
       "      <td>87285b34884572647811a353c7ac498a</td>\n",
       "      <td>...</td>\n",
       "      <td>500.0</td>\n",
       "      <td>19.0</td>\n",
       "      <td>8.0</td>\n",
       "      <td>13.0</td>\n",
       "      <td>a54f0611adc9ed256b57ede6b6eb5114</td>\n",
       "      <td>4</td>\n",
       "      <td>NaN</td>\n",
       "      <td>Não testei o produto ainda, mas ele veio corre...</td>\n",
       "      <td>2017-10-11 00:00:00</td>\n",
       "      <td>2017-10-12 03:43:48</td>\n",
       "    </tr>\n",
       "    <tr>\n",
       "      <th>1</th>\n",
       "      <td>53cdb2fc8bc7dce0b6741e2150273451</td>\n",
       "      <td>b0830fb4747a6c6d20dea0b8c802d7ef</td>\n",
       "      <td>delivered</td>\n",
       "      <td>2018-07-24 20:41:37</td>\n",
       "      <td>2018-07-26 03:24:27</td>\n",
       "      <td>2018-07-26 14:31:00</td>\n",
       "      <td>2018-08-07 15:27:45</td>\n",
       "      <td>2018-08-13 00:00:00</td>\n",
       "      <td>1.0</td>\n",
       "      <td>595fac2a385ac33a80bd5114aec74eb8</td>\n",
       "      <td>...</td>\n",
       "      <td>400.0</td>\n",
       "      <td>19.0</td>\n",
       "      <td>13.0</td>\n",
       "      <td>19.0</td>\n",
       "      <td>8d5266042046a06655c8db133d120ba5</td>\n",
       "      <td>4</td>\n",
       "      <td>Muito boa a loja</td>\n",
       "      <td>Muito bom o produto.</td>\n",
       "      <td>2018-08-08 00:00:00</td>\n",
       "      <td>2018-08-08 18:37:50</td>\n",
       "    </tr>\n",
       "    <tr>\n",
       "      <th>2</th>\n",
       "      <td>47770eb9100c2d0c44946d9cf07ec65d</td>\n",
       "      <td>41ce2a54c0b03bf3443c3d931a367089</td>\n",
       "      <td>delivered</td>\n",
       "      <td>2018-08-08 08:38:49</td>\n",
       "      <td>2018-08-08 08:55:23</td>\n",
       "      <td>2018-08-08 13:50:00</td>\n",
       "      <td>2018-08-17 18:06:29</td>\n",
       "      <td>2018-09-04 00:00:00</td>\n",
       "      <td>1.0</td>\n",
       "      <td>aa4383b373c6aca5d8797843e5594415</td>\n",
       "      <td>...</td>\n",
       "      <td>420.0</td>\n",
       "      <td>24.0</td>\n",
       "      <td>19.0</td>\n",
       "      <td>21.0</td>\n",
       "      <td>e73b67b67587f7644d5bd1a52deb1b01</td>\n",
       "      <td>5</td>\n",
       "      <td>NaN</td>\n",
       "      <td>NaN</td>\n",
       "      <td>2018-08-18 00:00:00</td>\n",
       "      <td>2018-08-22 19:07:58</td>\n",
       "    </tr>\n",
       "    <tr>\n",
       "      <th>3</th>\n",
       "      <td>949d5b44dbf5de918fe9c16f97b45f8a</td>\n",
       "      <td>f88197465ea7920adcdbec7375364d82</td>\n",
       "      <td>delivered</td>\n",
       "      <td>2017-11-18 19:28:06</td>\n",
       "      <td>2017-11-18 19:45:59</td>\n",
       "      <td>2017-11-22 13:39:59</td>\n",
       "      <td>2017-12-02 00:28:42</td>\n",
       "      <td>2017-12-15 00:00:00</td>\n",
       "      <td>1.0</td>\n",
       "      <td>d0b61bfb1de832b15ba9d266ca96e5b0</td>\n",
       "      <td>...</td>\n",
       "      <td>450.0</td>\n",
       "      <td>30.0</td>\n",
       "      <td>10.0</td>\n",
       "      <td>20.0</td>\n",
       "      <td>359d03e676b3c069f62cadba8dd3f6e8</td>\n",
       "      <td>5</td>\n",
       "      <td>NaN</td>\n",
       "      <td>O produto foi exatamente o que eu esperava e e...</td>\n",
       "      <td>2017-12-03 00:00:00</td>\n",
       "      <td>2017-12-05 19:21:58</td>\n",
       "    </tr>\n",
       "    <tr>\n",
       "      <th>4</th>\n",
       "      <td>ad21c59c0840e6cb83a9ceb5573f8159</td>\n",
       "      <td>8ab97904e6daea8866dbdbc4fb7aad2c</td>\n",
       "      <td>delivered</td>\n",
       "      <td>2018-02-13 21:18:39</td>\n",
       "      <td>2018-02-13 22:20:29</td>\n",
       "      <td>2018-02-14 19:46:34</td>\n",
       "      <td>2018-02-16 18:17:02</td>\n",
       "      <td>2018-02-26 00:00:00</td>\n",
       "      <td>1.0</td>\n",
       "      <td>65266b2da20d04dbe00c5c2d3bb7859e</td>\n",
       "      <td>...</td>\n",
       "      <td>250.0</td>\n",
       "      <td>51.0</td>\n",
       "      <td>15.0</td>\n",
       "      <td>15.0</td>\n",
       "      <td>e50934924e227544ba8246aeb3770dd4</td>\n",
       "      <td>5</td>\n",
       "      <td>NaN</td>\n",
       "      <td>NaN</td>\n",
       "      <td>2018-02-17 00:00:00</td>\n",
       "      <td>2018-02-18 13:02:51</td>\n",
       "    </tr>\n",
       "  </tbody>\n",
       "</table>\n",
       "<p>5 rows × 28 columns</p>\n",
       "</div>"
      ],
      "text/plain": [
       "                           order_id                       customer_id  \\\n",
       "0  e481f51cbdc54678b7cc49136f2d6af7  9ef432eb6251297304e76186b10a928d   \n",
       "1  53cdb2fc8bc7dce0b6741e2150273451  b0830fb4747a6c6d20dea0b8c802d7ef   \n",
       "2  47770eb9100c2d0c44946d9cf07ec65d  41ce2a54c0b03bf3443c3d931a367089   \n",
       "3  949d5b44dbf5de918fe9c16f97b45f8a  f88197465ea7920adcdbec7375364d82   \n",
       "4  ad21c59c0840e6cb83a9ceb5573f8159  8ab97904e6daea8866dbdbc4fb7aad2c   \n",
       "\n",
       "  order_status order_purchase_timestamp    order_approved_at  \\\n",
       "0    delivered      2017-10-02 10:56:33  2017-10-02 11:07:15   \n",
       "1    delivered      2018-07-24 20:41:37  2018-07-26 03:24:27   \n",
       "2    delivered      2018-08-08 08:38:49  2018-08-08 08:55:23   \n",
       "3    delivered      2017-11-18 19:28:06  2017-11-18 19:45:59   \n",
       "4    delivered      2018-02-13 21:18:39  2018-02-13 22:20:29   \n",
       "\n",
       "  order_delivered_carrier_date order_delivered_customer_date  \\\n",
       "0          2017-10-04 19:55:00           2017-10-10 21:25:13   \n",
       "1          2018-07-26 14:31:00           2018-08-07 15:27:45   \n",
       "2          2018-08-08 13:50:00           2018-08-17 18:06:29   \n",
       "3          2017-11-22 13:39:59           2017-12-02 00:28:42   \n",
       "4          2018-02-14 19:46:34           2018-02-16 18:17:02   \n",
       "\n",
       "  order_estimated_delivery_date  order_item_id  \\\n",
       "0           2017-10-18 00:00:00            1.0   \n",
       "1           2018-08-13 00:00:00            1.0   \n",
       "2           2018-09-04 00:00:00            1.0   \n",
       "3           2017-12-15 00:00:00            1.0   \n",
       "4           2018-02-26 00:00:00            1.0   \n",
       "\n",
       "                         product_id  ... product_weight_g product_length_cm  \\\n",
       "0  87285b34884572647811a353c7ac498a  ...            500.0              19.0   \n",
       "1  595fac2a385ac33a80bd5114aec74eb8  ...            400.0              19.0   \n",
       "2  aa4383b373c6aca5d8797843e5594415  ...            420.0              24.0   \n",
       "3  d0b61bfb1de832b15ba9d266ca96e5b0  ...            450.0              30.0   \n",
       "4  65266b2da20d04dbe00c5c2d3bb7859e  ...            250.0              51.0   \n",
       "\n",
       "   product_height_cm  product_width_cm                         review_id  \\\n",
       "0                8.0              13.0  a54f0611adc9ed256b57ede6b6eb5114   \n",
       "1               13.0              19.0  8d5266042046a06655c8db133d120ba5   \n",
       "2               19.0              21.0  e73b67b67587f7644d5bd1a52deb1b01   \n",
       "3               10.0              20.0  359d03e676b3c069f62cadba8dd3f6e8   \n",
       "4               15.0              15.0  e50934924e227544ba8246aeb3770dd4   \n",
       "\n",
       "   review_score  review_comment_title  \\\n",
       "0             4                   NaN   \n",
       "1             4      Muito boa a loja   \n",
       "2             5                   NaN   \n",
       "3             5                   NaN   \n",
       "4             5                   NaN   \n",
       "\n",
       "                              review_comment_message  review_creation_date  \\\n",
       "0  Não testei o produto ainda, mas ele veio corre...   2017-10-11 00:00:00   \n",
       "1                               Muito bom o produto.   2018-08-08 00:00:00   \n",
       "2                                                NaN   2018-08-18 00:00:00   \n",
       "3  O produto foi exatamente o que eu esperava e e...   2017-12-03 00:00:00   \n",
       "4                                                NaN   2018-02-17 00:00:00   \n",
       "\n",
       "   review_answer_timestamp  \n",
       "0      2017-10-12 03:43:48  \n",
       "1      2018-08-08 18:37:50  \n",
       "2      2018-08-22 19:07:58  \n",
       "3      2017-12-05 19:21:58  \n",
       "4      2018-02-18 13:02:51  \n",
       "\n",
       "[5 rows x 28 columns]"
      ]
     },
     "execution_count": 4,
     "metadata": {},
     "output_type": "execute_result"
    }
   ],
   "source": [
    "df = pd.read_csv(r\"..\\docs\\brazilian_ecommerce.csv\")\n",
    "\n",
    "df.head()"
   ]
  },
  {
   "cell_type": "markdown",
   "metadata": {},
   "source": [
    "Agora verificando o tipo de cada coluna"
   ]
  },
  {
   "cell_type": "code",
   "execution_count": 12,
   "metadata": {},
   "outputs": [
    {
     "name": "stdout",
     "output_type": "stream",
     "text": [
      "<class 'pandas.core.frame.DataFrame'>\n",
      "RangeIndex: 114100 entries, 0 to 114099\n",
      "Data columns (total 28 columns):\n",
      " #   Column                         Non-Null Count   Dtype  \n",
      "---  ------                         --------------   -----  \n",
      " 0   order_id                       114100 non-null  object \n",
      " 1   customer_id                    114100 non-null  object \n",
      " 2   order_status                   114100 non-null  object \n",
      " 3   order_purchase_timestamp       114100 non-null  object \n",
      " 4   order_approved_at              113938 non-null  object \n",
      " 5   order_delivered_carrier_date   112120 non-null  object \n",
      " 6   order_delivered_customer_date  110847 non-null  object \n",
      " 7   order_estimated_delivery_date  114100 non-null  object \n",
      " 8   order_item_id                  113322 non-null  float64\n",
      " 9   product_id                     113322 non-null  object \n",
      " 10  seller_id                      113322 non-null  object \n",
      " 11  shipping_limit_date            113322 non-null  object \n",
      " 12  price                          113322 non-null  float64\n",
      " 13  freight_value                  113322 non-null  float64\n",
      " 14  product_category_name          111710 non-null  object \n",
      " 15  product_name_lenght            111710 non-null  float64\n",
      " 16  product_description_lenght     111710 non-null  float64\n",
      " 17  product_photos_qty             111710 non-null  float64\n",
      " 18  product_weight_g               113304 non-null  float64\n",
      " 19  product_length_cm              113304 non-null  float64\n",
      " 20  product_height_cm              113304 non-null  float64\n",
      " 21  product_width_cm               113304 non-null  float64\n",
      " 22  review_id                      114100 non-null  object \n",
      " 23  review_score                   114100 non-null  int64  \n",
      " 24  review_comment_title           13714 non-null   object \n",
      " 25  review_comment_message         49135 non-null   object \n",
      " 26  review_creation_date           114100 non-null  object \n",
      " 27  review_answer_timestamp        114100 non-null  object \n",
      "dtypes: float64(10), int64(1), object(17)\n",
      "memory usage: 24.4+ MB\n"
     ]
    }
   ],
   "source": [
    "df.info()"
   ]
  },
  {
   "cell_type": "markdown",
   "metadata": {},
   "source": [
    "Aqui podemos ver as propriedades das colunas que contem valores númericos, como média, desvio padrão, máximo e mínimo."
   ]
  },
  {
   "cell_type": "code",
   "execution_count": 15,
   "metadata": {},
   "outputs": [
    {
     "data": {
      "text/html": [
       "<div>\n",
       "<style scoped>\n",
       "    .dataframe tbody tr th:only-of-type {\n",
       "        vertical-align: middle;\n",
       "    }\n",
       "\n",
       "    .dataframe tbody tr th {\n",
       "        vertical-align: top;\n",
       "    }\n",
       "\n",
       "    .dataframe thead th {\n",
       "        text-align: right;\n",
       "    }\n",
       "</style>\n",
       "<table border=\"1\" class=\"dataframe\">\n",
       "  <thead>\n",
       "    <tr style=\"text-align: right;\">\n",
       "      <th></th>\n",
       "      <th>order_item_id</th>\n",
       "      <th>price</th>\n",
       "      <th>freight_value</th>\n",
       "      <th>product_name_lenght</th>\n",
       "      <th>product_description_lenght</th>\n",
       "      <th>product_photos_qty</th>\n",
       "      <th>product_weight_g</th>\n",
       "      <th>product_length_cm</th>\n",
       "      <th>product_height_cm</th>\n",
       "      <th>product_width_cm</th>\n",
       "      <th>review_score</th>\n",
       "    </tr>\n",
       "  </thead>\n",
       "  <tbody>\n",
       "    <tr>\n",
       "      <th>count</th>\n",
       "      <td>113322.000000</td>\n",
       "      <td>113322.000000</td>\n",
       "      <td>113322.000000</td>\n",
       "      <td>111710.000000</td>\n",
       "      <td>111710.000000</td>\n",
       "      <td>111710.000000</td>\n",
       "      <td>113304.000000</td>\n",
       "      <td>113304.000000</td>\n",
       "      <td>113304.000000</td>\n",
       "      <td>113304.000000</td>\n",
       "      <td>114100.000000</td>\n",
       "    </tr>\n",
       "    <tr>\n",
       "      <th>mean</th>\n",
       "      <td>1.198514</td>\n",
       "      <td>120.481328</td>\n",
       "      <td>19.979641</td>\n",
       "      <td>48.777459</td>\n",
       "      <td>786.881040</td>\n",
       "      <td>2.206857</td>\n",
       "      <td>2091.970831</td>\n",
       "      <td>30.162210</td>\n",
       "      <td>16.584816</td>\n",
       "      <td>23.003645</td>\n",
       "      <td>3.999816</td>\n",
       "    </tr>\n",
       "    <tr>\n",
       "      <th>std</th>\n",
       "      <td>0.706993</td>\n",
       "      <td>183.277636</td>\n",
       "      <td>15.782926</td>\n",
       "      <td>10.024601</td>\n",
       "      <td>651.745733</td>\n",
       "      <td>1.719464</td>\n",
       "      <td>3749.785242</td>\n",
       "      <td>16.151345</td>\n",
       "      <td>13.439402</td>\n",
       "      <td>11.708565</td>\n",
       "      <td>1.412251</td>\n",
       "    </tr>\n",
       "    <tr>\n",
       "      <th>min</th>\n",
       "      <td>1.000000</td>\n",
       "      <td>0.850000</td>\n",
       "      <td>0.000000</td>\n",
       "      <td>5.000000</td>\n",
       "      <td>4.000000</td>\n",
       "      <td>1.000000</td>\n",
       "      <td>0.000000</td>\n",
       "      <td>7.000000</td>\n",
       "      <td>2.000000</td>\n",
       "      <td>6.000000</td>\n",
       "      <td>1.000000</td>\n",
       "    </tr>\n",
       "    <tr>\n",
       "      <th>25%</th>\n",
       "      <td>1.000000</td>\n",
       "      <td>39.900000</td>\n",
       "      <td>13.080000</td>\n",
       "      <td>42.000000</td>\n",
       "      <td>348.000000</td>\n",
       "      <td>1.000000</td>\n",
       "      <td>300.000000</td>\n",
       "      <td>18.000000</td>\n",
       "      <td>8.000000</td>\n",
       "      <td>15.000000</td>\n",
       "      <td>3.000000</td>\n",
       "    </tr>\n",
       "    <tr>\n",
       "      <th>50%</th>\n",
       "      <td>1.000000</td>\n",
       "      <td>74.900000</td>\n",
       "      <td>16.260000</td>\n",
       "      <td>52.000000</td>\n",
       "      <td>601.000000</td>\n",
       "      <td>1.000000</td>\n",
       "      <td>700.000000</td>\n",
       "      <td>25.000000</td>\n",
       "      <td>13.000000</td>\n",
       "      <td>20.000000</td>\n",
       "      <td>5.000000</td>\n",
       "    </tr>\n",
       "    <tr>\n",
       "      <th>75%</th>\n",
       "      <td>1.000000</td>\n",
       "      <td>134.900000</td>\n",
       "      <td>21.150000</td>\n",
       "      <td>57.000000</td>\n",
       "      <td>985.000000</td>\n",
       "      <td>3.000000</td>\n",
       "      <td>1800.000000</td>\n",
       "      <td>38.000000</td>\n",
       "      <td>20.000000</td>\n",
       "      <td>30.000000</td>\n",
       "      <td>5.000000</td>\n",
       "    </tr>\n",
       "    <tr>\n",
       "      <th>max</th>\n",
       "      <td>21.000000</td>\n",
       "      <td>6735.000000</td>\n",
       "      <td>409.680000</td>\n",
       "      <td>76.000000</td>\n",
       "      <td>3992.000000</td>\n",
       "      <td>20.000000</td>\n",
       "      <td>40425.000000</td>\n",
       "      <td>105.000000</td>\n",
       "      <td>105.000000</td>\n",
       "      <td>118.000000</td>\n",
       "      <td>5.000000</td>\n",
       "    </tr>\n",
       "  </tbody>\n",
       "</table>\n",
       "</div>"
      ],
      "text/plain": [
       "       order_item_id          price  freight_value  product_name_lenght  \\\n",
       "count  113322.000000  113322.000000  113322.000000        111710.000000   \n",
       "mean        1.198514     120.481328      19.979641            48.777459   \n",
       "std         0.706993     183.277636      15.782926            10.024601   \n",
       "min         1.000000       0.850000       0.000000             5.000000   \n",
       "25%         1.000000      39.900000      13.080000            42.000000   \n",
       "50%         1.000000      74.900000      16.260000            52.000000   \n",
       "75%         1.000000     134.900000      21.150000            57.000000   \n",
       "max        21.000000    6735.000000     409.680000            76.000000   \n",
       "\n",
       "       product_description_lenght  product_photos_qty  product_weight_g  \\\n",
       "count               111710.000000       111710.000000     113304.000000   \n",
       "mean                   786.881040            2.206857       2091.970831   \n",
       "std                    651.745733            1.719464       3749.785242   \n",
       "min                      4.000000            1.000000          0.000000   \n",
       "25%                    348.000000            1.000000        300.000000   \n",
       "50%                    601.000000            1.000000        700.000000   \n",
       "75%                    985.000000            3.000000       1800.000000   \n",
       "max                   3992.000000           20.000000      40425.000000   \n",
       "\n",
       "       product_length_cm  product_height_cm  product_width_cm   review_score  \n",
       "count      113304.000000      113304.000000     113304.000000  114100.000000  \n",
       "mean           30.162210          16.584816         23.003645       3.999816  \n",
       "std            16.151345          13.439402         11.708565       1.412251  \n",
       "min             7.000000           2.000000          6.000000       1.000000  \n",
       "25%            18.000000           8.000000         15.000000       3.000000  \n",
       "50%            25.000000          13.000000         20.000000       5.000000  \n",
       "75%            38.000000          20.000000         30.000000       5.000000  \n",
       "max           105.000000         105.000000        118.000000       5.000000  "
      ]
     },
     "execution_count": 15,
     "metadata": {},
     "output_type": "execute_result"
    }
   ],
   "source": [
    "df.describe()"
   ]
  },
  {
   "cell_type": "markdown",
   "metadata": {},
   "source": [
    "Verificando se existem dados duplicados"
   ]
  },
  {
   "cell_type": "code",
   "execution_count": 36,
   "metadata": {},
   "outputs": [
    {
     "name": "stdout",
     "output_type": "stream",
     "text": [
      "Total de linhas duplicadas: 0\n"
     ]
    }
   ],
   "source": [
    "duplicatas = df[df.duplicated()]\n",
    "\n",
    "total_duplicatas = duplicatas.shape[0]\n",
    "\n",
    "# Exibir o total de duplicatas\n",
    "print(f\"Total de linhas duplicadas: {total_duplicatas}\")\n"
   ]
  },
  {
   "cell_type": "markdown",
   "metadata": {},
   "source": [
    "Por ultimo, verificando os valores nulos."
   ]
  },
  {
   "cell_type": "code",
   "execution_count": null,
   "metadata": {},
   "outputs": [
    {
     "data": {
      "text/plain": [
       "order_id                              0\n",
       "customer_id                           0\n",
       "order_status                          0\n",
       "order_purchase_timestamp              0\n",
       "order_approved_at                   162\n",
       "order_delivered_carrier_date       1980\n",
       "order_delivered_customer_date      3253\n",
       "order_estimated_delivery_date         0\n",
       "order_item_id                       778\n",
       "product_id                          778\n",
       "seller_id                           778\n",
       "shipping_limit_date                 778\n",
       "price                               778\n",
       "freight_value                       778\n",
       "product_category_name              2390\n",
       "product_name_lenght                2390\n",
       "product_description_lenght         2390\n",
       "product_photos_qty                 2390\n",
       "product_weight_g                    796\n",
       "product_length_cm                   796\n",
       "product_height_cm                   796\n",
       "product_width_cm                    796\n",
       "review_id                             0\n",
       "review_score                          0\n",
       "review_comment_title             100386\n",
       "review_comment_message            64965\n",
       "review_creation_date                  0\n",
       "review_answer_timestamp               0\n",
       "dtype: int64"
      ]
     },
     "execution_count": 13,
     "metadata": {},
     "output_type": "execute_result"
    }
   ],
   "source": [
    "df.isnull().sum()"
   ]
  },
  {
   "cell_type": "markdown",
   "metadata": {},
   "source": [
    "Agora vamos utilizar técnicas para explorar os dados."
   ]
  },
  {
   "cell_type": "markdown",
   "metadata": {},
   "source": [
    "Uma das principais métricas desse dataset são as notas altas e notas baixas nos reviews, por isso vamos começar com o total de notas."
   ]
  },
  {
   "cell_type": "code",
   "execution_count": 32,
   "metadata": {},
   "outputs": [
    {
     "data": {
      "image/png": "[encoded data removed]",
      "text/plain": [
       "<Figure size 640x480 with 1 Axes>"
      ]
     },
     "metadata": {},
     "output_type": "display_data"
    }
   ],
   "source": [
    "data = Counter(df['review_score'])\n",
    "\n",
    "labels = list(data.keys())\n",
    "values = list(data.values())\n",
    "\n",
    "plt.bar(labels, values, color='skyblue')\n",
    "\n",
    "plt.title('Distribuição dos Valores', fontsize=14)\n",
    "plt.xlabel('Nota', fontsize=12)\n",
    "plt.ylabel('Total', fontsize=12)\n",
    "\n",
    "plt.show()"
   ]
  },
  {
   "cell_type": "markdown",
   "metadata": {},
   "source": [
    "Podemos observar que mais da metade dos clientes estão completamente satisfeitos com a compra, mas precisamos entender o por que disso para criar métricas vísiveis ao cliente.<br>\n",
    "Por curiosidade, vamos verificar se existe relação entre as informações do item no anúncio."
   ]
  },
  {
   "cell_type": "code",
   "execution_count": 48,
   "metadata": {},
   "outputs": [
    {
     "name": "stdout",
     "output_type": "stream",
     "text": [
      "\n",
      "\n",
      "Matriz de correlação: \n"
     ]
    },
    {
     "data": {
      "text/html": [
       "<div>\n",
       "<style scoped>\n",
       "    .dataframe tbody tr th:only-of-type {\n",
       "        vertical-align: middle;\n",
       "    }\n",
       "\n",
       "    .dataframe tbody tr th {\n",
       "        vertical-align: top;\n",
       "    }\n",
       "\n",
       "    .dataframe thead th {\n",
       "        text-align: right;\n",
       "    }\n",
       "</style>\n",
       "<table border=\"1\" class=\"dataframe\">\n",
       "  <thead>\n",
       "    <tr style=\"text-align: right;\">\n",
       "      <th></th>\n",
       "      <th>review_score</th>\n",
       "      <th>price</th>\n",
       "      <th>freight_value</th>\n",
       "      <th>product_name_lenght</th>\n",
       "      <th>product_description_lenght</th>\n",
       "      <th>product_photos_qty</th>\n",
       "    </tr>\n",
       "  </thead>\n",
       "  <tbody>\n",
       "    <tr>\n",
       "      <th>review_score</th>\n",
       "      <td>1.000000</td>\n",
       "      <td>-0.004525</td>\n",
       "      <td>-0.036006</td>\n",
       "      <td>-0.005700</td>\n",
       "      <td>0.012745</td>\n",
       "      <td>0.022594</td>\n",
       "    </tr>\n",
       "    <tr>\n",
       "      <th>price</th>\n",
       "      <td>-0.004525</td>\n",
       "      <td>1.000000</td>\n",
       "      <td>0.414355</td>\n",
       "      <td>0.016992</td>\n",
       "      <td>0.198174</td>\n",
       "      <td>0.051957</td>\n",
       "    </tr>\n",
       "    <tr>\n",
       "      <th>freight_value</th>\n",
       "      <td>-0.036006</td>\n",
       "      <td>0.414355</td>\n",
       "      <td>1.000000</td>\n",
       "      <td>0.023504</td>\n",
       "      <td>0.094054</td>\n",
       "      <td>0.022651</td>\n",
       "    </tr>\n",
       "    <tr>\n",
       "      <th>product_name_lenght</th>\n",
       "      <td>-0.005700</td>\n",
       "      <td>0.016992</td>\n",
       "      <td>0.023504</td>\n",
       "      <td>1.000000</td>\n",
       "      <td>0.091391</td>\n",
       "      <td>0.145644</td>\n",
       "    </tr>\n",
       "    <tr>\n",
       "      <th>product_description_lenght</th>\n",
       "      <td>0.012745</td>\n",
       "      <td>0.198174</td>\n",
       "      <td>0.094054</td>\n",
       "      <td>0.091391</td>\n",
       "      <td>1.000000</td>\n",
       "      <td>0.118968</td>\n",
       "    </tr>\n",
       "    <tr>\n",
       "      <th>product_photos_qty</th>\n",
       "      <td>0.022594</td>\n",
       "      <td>0.051957</td>\n",
       "      <td>0.022651</td>\n",
       "      <td>0.145644</td>\n",
       "      <td>0.118968</td>\n",
       "      <td>1.000000</td>\n",
       "    </tr>\n",
       "  </tbody>\n",
       "</table>\n",
       "</div>"
      ],
      "text/plain": [
       "                            review_score     price  freight_value  \\\n",
       "review_score                    1.000000 -0.004525      -0.036006   \n",
       "price                          -0.004525  1.000000       0.414355   \n",
       "freight_value                  -0.036006  0.414355       1.000000   \n",
       "product_name_lenght            -0.005700  0.016992       0.023504   \n",
       "product_description_lenght      0.012745  0.198174       0.094054   \n",
       "product_photos_qty              0.022594  0.051957       0.022651   \n",
       "\n",
       "                            product_name_lenght  product_description_lenght  \\\n",
       "review_score                          -0.005700                    0.012745   \n",
       "price                                  0.016992                    0.198174   \n",
       "freight_value                          0.023504                    0.094054   \n",
       "product_name_lenght                    1.000000                    0.091391   \n",
       "product_description_lenght             0.091391                    1.000000   \n",
       "product_photos_qty                     0.145644                    0.118968   \n",
       "\n",
       "                            product_photos_qty  \n",
       "review_score                          0.022594  \n",
       "price                                 0.051957  \n",
       "freight_value                         0.022651  \n",
       "product_name_lenght                   0.145644  \n",
       "product_description_lenght            0.118968  \n",
       "product_photos_qty                    1.000000  "
      ]
     },
     "metadata": {},
     "output_type": "display_data"
    },
    {
     "data": {
      "image/png": "[encoded data removed]",
      "text/plain": [
       "<Figure size 640x480 with 2 Axes>"
      ]
     },
     "metadata": {},
     "output_type": "display_data"
    }
   ],
   "source": [
    "#Calcula a matriz de correlação para as variaveis numéricas no df, criando uma tabela de correlação\n",
    "df_correlation = df[['review_score', 'price', 'freight_value', 'product_name_lenght', 'product_description_lenght', 'product_photos_qty']].corr()\n",
    "\n",
    "#Exibe a tabela de correlação \n",
    "print('\\n\\nMatriz de correlação: ')\n",
    "display(df_correlation)\n",
    "\n",
    "#Cria um mapa de calor para visualizar a matrix de correlação\n",
    "sns.heatmap(df_correlation,\n",
    "            annot=True,\n",
    "            xticklabels=df_correlation.columns,\n",
    "            yticklabels=df_correlation.columns)\n",
    "\n",
    "plt.title('Correlação')\n",
    "plt.show()"
   ]
  },
  {
   "cell_type": "markdown",
   "metadata": {},
   "source": [
    "Podemos ver que não existe correlação entre as notas nos reviews e as informações no anúncio.<br>"
   ]
  },
  {
   "cell_type": "markdown",
   "metadata": {},
   "source": [
    "Agora vamos verificar a consistências dos dados de outras colunas para podermos utiliza-las futuramente para criar relação entre a nota na avaliação e algum outro atributo.<br>\n",
    "Começando pelos valores únicos de cada coluna"
   ]
  },
  {
   "cell_type": "code",
   "execution_count": 24,
   "metadata": {},
   "outputs": [
    {
     "name": "stdout",
     "output_type": "stream",
     "text": [
      "Total de valores por coluna:\n",
      "    -order_id: 99441\n",
      "    -customer_id: 99441\n",
      "    -order_status: 8->['delivered' 'invoiced' 'shipped' 'processing' 'unavailable' 'canceled'\n",
      " 'created' 'approved']\n",
      "    -order_purchase_timestamp: 98875\n",
      "    -order_approved_at: 90734\n",
      "    -order_delivered_carrier_date: 81019\n",
      "    -order_delivered_customer_date: 95665\n",
      "    -order_estimated_delivery_date: 459\n",
      "    -order_item_id: 22\n",
      "    -product_id: 32952\n",
      "    -seller_id: 3096\n",
      "    -shipping_limit_date: 93319\n",
      "    -price: 5969\n",
      "    -freight_value: 7000\n",
      "    -product_category_name: 74\n",
      "    -product_name_lenght: 67\n",
      "    -product_description_lenght: 2961\n",
      "    -product_photos_qty: 20\n",
      "    -product_weight_g: 2205\n",
      "    -product_length_cm: 100\n",
      "    -product_height_cm: 103\n",
      "    -product_width_cm: 96\n",
      "    -review_id: 99173\n",
      "    -review_score: 5->[4 5 2 1 3]\n",
      "    -review_comment_title: 4601\n",
      "    -review_comment_message: 36922\n",
      "    -review_creation_date: 637\n",
      "    -review_answer_timestamp: 99010\n"
     ]
    }
   ],
   "source": [
    "print('Total de valores por coluna:')\n",
    "\n",
    "#Loop pelas colunas do df com os dados do funcionario\n",
    "for coluna in df:\n",
    "\n",
    "    #Removendo os valores duplicados das colunas do df, mantendo apenas os valores unicos\n",
    "    unicos = df[coluna].unique()\n",
    "\n",
    "    #Quantidade de valores unicos dentro de cada coluna\n",
    "    valores = len(unicos)\n",
    "    \n",
    "    #Apresentando os dados para melhor compreensão\n",
    "    if valores > 8:\n",
    "        print(f\"    -{coluna}: {valores}\")\n",
    "    else:\n",
    "        print(f\"    -{coluna}: {valores}->{unicos}\")"
   ]
  },
  {
   "cell_type": "markdown",
   "metadata": {},
   "source": [
    "Agora vamos validar os dados de algumas colunas que podem ser utilizadas para criarem importante métricas.<br>\n",
    "Começando pela verificação dos formatos dos datetimes, garantindo que todos tenham o mesmo padrão (yyyy-mm-dd hh-mm-ss)."
   ]
  },
  {
   "cell_type": "code",
   "execution_count": 39,
   "metadata": {},
   "outputs": [
    {
     "name": "stdout",
     "output_type": "stream",
     "text": [
      "A coluna 'order_approved_at' está no formato correto.\n",
      "A coluna 'order_purchase_timestamp' está no formato correto.\n",
      "A coluna 'review_answer_timestamp' está no formato correto.\n",
      "A coluna 'review_creation_date' está no formato correto.\n",
      "A coluna 'shipping_limit_date' está no formato correto.\n",
      "A coluna 'order_delivered_customer_date' está no formato correto.\n",
      "A coluna 'order_estimated_delivery_date' está no formato correto.\n",
      "A coluna 'order_delivered_carrier_date' está no formato correto.\n"
     ]
    }
   ],
   "source": [
    "def verificar_formato_data(df, coluna):\n",
    "    try:\n",
    "        df[coluna] = pd.to_datetime(df[coluna], format='%Y-%m-%d %H:%M:%S', errors='raise')\n",
    "        print(f\"A coluna '{coluna}' está no formato correto.\")\n",
    "    except Exception as e:\n",
    "        print(f\"Erro ao verificar o formato da coluna '{coluna}': {e}\")\n",
    "        invalid_data = df[~df[coluna].apply(lambda x: isinstance(x, pd.Timestamp))]\n",
    "        print(\"Entradas com formato inválido:\")\n",
    "        print(invalid_data)\n",
    "\n",
    "for coluna in ['order_approved_at', 'order_purchase_timestamp', 'review_answer_timestamp', 'review_creation_date', 'shipping_limit_date', 'order_delivered_customer_date', 'order_estimated_delivery_date', 'order_delivered_carrier_date']:\n",
    "    verificar_formato_data(df, coluna)\n"
   ]
  },
  {
   "cell_type": "markdown",
   "metadata": {},
   "source": [
    "Com as datas no formato correto, podemos verificar a correlação entre tempo de entrega e a nota atribuida nos reviews.<br>\n",
    "Vamos começar criando colunas com essas métricas."
   ]
  },
  {
   "cell_type": "code",
   "execution_count": 50,
   "metadata": {},
   "outputs": [],
   "source": [
    "import pandas as pd\n",
    "\n",
    "# Criar a coluna tempo_de_entrega (diferença em dias)\n",
    "df['tempo_de_entrega'] = (df['order_delivered_customer_date'] - df['order_approved_at']).dt.days\n",
    "\n",
    "# Criar a coluna atrasado (1 se entregue após a data estimada, 0 caso contrário)\n",
    "df['atrasado'] = (df['order_delivered_customer_date'] > df['order_estimated_delivery_date']).astype(int)\n",
    "\n",
    "# Criar a coluna adiantado (1 se entregue antes a data estimada, 0 caso contrário)\n",
    "df['adiantado'] = (df['order_delivered_customer_date'] < df['order_estimated_delivery_date']).astype(int)\n"
   ]
  },
  {
   "cell_type": "code",
   "execution_count": 51,
   "metadata": {},
   "outputs": [
    {
     "name": "stdout",
     "output_type": "stream",
     "text": [
      "\n",
      "\n",
      "Matriz de correlação: \n"
     ]
    },
    {
     "data": {
      "text/html": [
       "<div>\n",
       "<style scoped>\n",
       "    .dataframe tbody tr th:only-of-type {\n",
       "        vertical-align: middle;\n",
       "    }\n",
       "\n",
       "    .dataframe tbody tr th {\n",
       "        vertical-align: top;\n",
       "    }\n",
       "\n",
       "    .dataframe thead th {\n",
       "        text-align: right;\n",
       "    }\n",
       "</style>\n",
       "<table border=\"1\" class=\"dataframe\">\n",
       "  <thead>\n",
       "    <tr style=\"text-align: right;\">\n",
       "      <th></th>\n",
       "      <th>review_score</th>\n",
       "      <th>adiantado</th>\n",
       "      <th>atrasado</th>\n",
       "      <th>tempo_de_entrega</th>\n",
       "    </tr>\n",
       "  </thead>\n",
       "  <tbody>\n",
       "    <tr>\n",
       "      <th>review_score</th>\n",
       "      <td>1.000000</td>\n",
       "      <td>0.408538</td>\n",
       "      <td>-0.300211</td>\n",
       "      <td>-0.303905</td>\n",
       "    </tr>\n",
       "    <tr>\n",
       "      <th>adiantado</th>\n",
       "      <td>0.408538</td>\n",
       "      <td>1.000000</td>\n",
       "      <td>-0.840598</td>\n",
       "      <td>-0.584455</td>\n",
       "    </tr>\n",
       "    <tr>\n",
       "      <th>atrasado</th>\n",
       "      <td>-0.300211</td>\n",
       "      <td>-0.840598</td>\n",
       "      <td>1.000000</td>\n",
       "      <td>0.584455</td>\n",
       "    </tr>\n",
       "    <tr>\n",
       "      <th>tempo_de_entrega</th>\n",
       "      <td>-0.303905</td>\n",
       "      <td>-0.584455</td>\n",
       "      <td>0.584455</td>\n",
       "      <td>1.000000</td>\n",
       "    </tr>\n",
       "  </tbody>\n",
       "</table>\n",
       "</div>"
      ],
      "text/plain": [
       "                  review_score  adiantado  atrasado  tempo_de_entrega\n",
       "review_score          1.000000   0.408538 -0.300211         -0.303905\n",
       "adiantado             0.408538   1.000000 -0.840598         -0.584455\n",
       "atrasado             -0.300211  -0.840598  1.000000          0.584455\n",
       "tempo_de_entrega     -0.303905  -0.584455  0.584455          1.000000"
      ]
     },
     "metadata": {},
     "output_type": "display_data"
    },
    {
     "data": {
      "image/png": "[encoded data removed]",
      "text/plain": [
       "<Figure size 640x480 with 2 Axes>"
      ]
     },
     "metadata": {},
     "output_type": "display_data"
    }
   ],
   "source": [
    "#Calcula a matriz de correlação para as variaveis numéricas no df, criando uma tabela de correlação\n",
    "df_correlation = df[['review_score', 'adiantado', 'atrasado', 'tempo_de_entrega']].corr()\n",
    "\n",
    "#Exibe a tabela de correlação \n",
    "print('\\n\\nMatriz de correlação: ')\n",
    "display(df_correlation)\n",
    "\n",
    "#Cria um mapa de calor para visualizar a matrix de correlação\n",
    "sns.heatmap(df_correlation,\n",
    "            annot=True,\n",
    "            xticklabels=df_correlation.columns,\n",
    "            yticklabels=df_correlation.columns)\n",
    "\n",
    "plt.title('Correlação')\n",
    "plt.show()"
   ]
  },
  {
   "cell_type": "markdown",
   "metadata": {},
   "source": [
    "Podemos ver que existe uma relação significativa entre o tempo de entrega e a nota dada pelo comprador."
   ]
  },
  {
   "cell_type": "markdown",
   "metadata": {},
   "source": [
    "Vamos verificar as colunas com as informações do review, para saber se existe correlação entre a nota e o texto escrito."
   ]
  },
  {
   "cell_type": "code",
   "execution_count": 64,
   "metadata": {},
   "outputs": [],
   "source": [
    "def possui_caracteres_especiais(texto):\n",
    "    try:\n",
    "        # Tenta codificar o texto como UTF-8\n",
    "        texto.encode('utf-8')\n",
    "        return 0  # Retorna 0 se o texto está dentro do padrão UTF-8\n",
    "    except:\n",
    "        return 1  # Retorna 1 se o texto contém caracteres especiais\n",
    "\n",
    "# Criar as colunas de tamanho das strings\n",
    "df['review_comment_title_size'] = df['review_comment_title'].str.len()\n",
    "df['review_comment_message_size'] = df['review_comment_message'].str.len()\n",
    "\n",
    "# Criar as colunas de verificação de caracteres especiais com 1 e 0\n",
    "df['review_comment_title_caracteres_especiais'] = df['review_comment_title'].apply(lambda x: 1 if possui_caracteres_especiais(x) else 0)\n",
    "df['review_comment_message_caracteres_especiais'] = df['review_comment_message'].apply(lambda x: 1 if possui_caracteres_especiais(x) else 0)"
   ]
  },
  {
   "cell_type": "code",
   "execution_count": 65,
   "metadata": {},
   "outputs": [
    {
     "name": "stdout",
     "output_type": "stream",
     "text": [
      "\n",
      "\n",
      "Matriz de correlação: \n"
     ]
    },
    {
     "data": {
      "text/html": [
       "<div>\n",
       "<style scoped>\n",
       "    .dataframe tbody tr th:only-of-type {\n",
       "        vertical-align: middle;\n",
       "    }\n",
       "\n",
       "    .dataframe tbody tr th {\n",
       "        vertical-align: top;\n",
       "    }\n",
       "\n",
       "    .dataframe thead th {\n",
       "        text-align: right;\n",
       "    }\n",
       "</style>\n",
       "<table border=\"1\" class=\"dataframe\">\n",
       "  <thead>\n",
       "    <tr style=\"text-align: right;\">\n",
       "      <th></th>\n",
       "      <th>review_score</th>\n",
       "      <th>review_comment_title_size</th>\n",
       "      <th>review_comment_message_size</th>\n",
       "      <th>review_comment_title_caracteres_especiais</th>\n",
       "      <th>review_comment_message_caracteres_especiais</th>\n",
       "    </tr>\n",
       "  </thead>\n",
       "  <tbody>\n",
       "    <tr>\n",
       "      <th>review_score</th>\n",
       "      <td>1.000000</td>\n",
       "      <td>-0.308558</td>\n",
       "      <td>-0.391831</td>\n",
       "      <td>0.051307</td>\n",
       "      <td>0.296681</td>\n",
       "    </tr>\n",
       "    <tr>\n",
       "      <th>review_comment_title_size</th>\n",
       "      <td>-0.308558</td>\n",
       "      <td>1.000000</td>\n",
       "      <td>0.309450</td>\n",
       "      <td>NaN</td>\n",
       "      <td>-0.107684</td>\n",
       "    </tr>\n",
       "    <tr>\n",
       "      <th>review_comment_message_size</th>\n",
       "      <td>-0.391831</td>\n",
       "      <td>0.309450</td>\n",
       "      <td>1.000000</td>\n",
       "      <td>-0.003652</td>\n",
       "      <td>NaN</td>\n",
       "    </tr>\n",
       "    <tr>\n",
       "      <th>review_comment_title_caracteres_especiais</th>\n",
       "      <td>0.051307</td>\n",
       "      <td>NaN</td>\n",
       "      <td>-0.003652</td>\n",
       "      <td>1.000000</td>\n",
       "      <td>0.321150</td>\n",
       "    </tr>\n",
       "    <tr>\n",
       "      <th>review_comment_message_caracteres_especiais</th>\n",
       "      <td>0.296681</td>\n",
       "      <td>-0.107684</td>\n",
       "      <td>NaN</td>\n",
       "      <td>0.321150</td>\n",
       "      <td>1.000000</td>\n",
       "    </tr>\n",
       "  </tbody>\n",
       "</table>\n",
       "</div>"
      ],
      "text/plain": [
       "                                             review_score  \\\n",
       "review_score                                     1.000000   \n",
       "review_comment_title_size                       -0.308558   \n",
       "review_comment_message_size                     -0.391831   \n",
       "review_comment_title_caracteres_especiais        0.051307   \n",
       "review_comment_message_caracteres_especiais      0.296681   \n",
       "\n",
       "                                             review_comment_title_size  \\\n",
       "review_score                                                 -0.308558   \n",
       "review_comment_title_size                                     1.000000   \n",
       "review_comment_message_size                                   0.309450   \n",
       "review_comment_title_caracteres_especiais                          NaN   \n",
       "review_comment_message_caracteres_especiais                  -0.107684   \n",
       "\n",
       "                                             review_comment_message_size  \\\n",
       "review_score                                                   -0.391831   \n",
       "review_comment_title_size                                       0.309450   \n",
       "review_comment_message_size                                     1.000000   \n",
       "review_comment_title_caracteres_especiais                      -0.003652   \n",
       "review_comment_message_caracteres_especiais                          NaN   \n",
       "\n",
       "                                             review_comment_title_caracteres_especiais  \\\n",
       "review_score                                                                  0.051307   \n",
       "review_comment_title_size                                                          NaN   \n",
       "review_comment_message_size                                                  -0.003652   \n",
       "review_comment_title_caracteres_especiais                                     1.000000   \n",
       "review_comment_message_caracteres_especiais                                   0.321150   \n",
       "\n",
       "                                             review_comment_message_caracteres_especiais  \n",
       "review_score                                                                    0.296681  \n",
       "review_comment_title_size                                                      -0.107684  \n",
       "review_comment_message_size                                                          NaN  \n",
       "review_comment_title_caracteres_especiais                                       0.321150  \n",
       "review_comment_message_caracteres_especiais                                     1.000000  "
      ]
     },
     "metadata": {},
     "output_type": "display_data"
    },
    {
     "data": {
      "image/png": "[encoded data removed]",
      "text/plain": [
       "<Figure size 640x480 with 2 Axes>"
      ]
     },
     "metadata": {},
     "output_type": "display_data"
    }
   ],
   "source": [
    "#Calcula a matriz de correlação para as variaveis numéricas no df, criando uma tabela de correlação\n",
    "df_correlation = df[['review_score', 'review_comment_title_size', 'review_comment_message_size', 'review_comment_title_caracteres_especiais', 'review_comment_message_caracteres_especiais']].corr()\n",
    "\n",
    "#Exibe a tabela de correlação \n",
    "print('\\n\\nMatriz de correlação: ')\n",
    "display(df_correlation)\n",
    "\n",
    "#Cria um mapa de calor para visualizar a matrix de correlação\n",
    "sns.heatmap(df_correlation,\n",
    "            annot=True,\n",
    "            xticklabels=df_correlation.columns,\n",
    "            yticklabels=df_correlation.columns)\n",
    "\n",
    "plt.title('Correlação')\n",
    "plt.show()"
   ]
  },
  {
   "cell_type": "markdown",
   "metadata": {},
   "source": [
    "Concluímos que não existe uma relação tão significante entre o comentário e a nota quanto entre a nota e o tempo de entrega."
   ]
  },
  {
   "cell_type": "markdown",
   "metadata": {},
   "source": [
    "Por último, vamos usar uma biblioteca de análise de sentimento para dizer se o comentário é positivo (1) ou negativo (0), para tentar criar uma última correlação entre a nota obtida e o comentário.<br>\n",
    "Essa biblioteca em específico tem uma função para realizar essa tarefa."
   ]
  },
  {
   "cell_type": "code",
   "execution_count": 67,
   "metadata": {},
   "outputs": [],
   "source": [
    "def is_positive(comment):\n",
    "    if pd.isna(comment):\n",
    "        return 0\n",
    "    analysis = TextBlob(comment)\n",
    "    return 1 if analysis.sentiment.polarity > 0 else 0\n",
    "\n",
    "# Aplicar a função nas colunas de comentários\n",
    "df['comentario_positivo'] = df['review_comment_message'].apply(is_positive)"
   ]
  },
  {
   "cell_type": "code",
   "execution_count": 73,
   "metadata": {},
   "outputs": [
    {
     "name": "stdout",
     "output_type": "stream",
     "text": [
      "\n",
      "\n",
      "Matriz de correlação: \n"
     ]
    },
    {
     "data": {
      "text/html": [
       "<div>\n",
       "<style scoped>\n",
       "    .dataframe tbody tr th:only-of-type {\n",
       "        vertical-align: middle;\n",
       "    }\n",
       "\n",
       "    .dataframe tbody tr th {\n",
       "        vertical-align: top;\n",
       "    }\n",
       "\n",
       "    .dataframe thead th {\n",
       "        text-align: right;\n",
       "    }\n",
       "</style>\n",
       "<table border=\"1\" class=\"dataframe\">\n",
       "  <thead>\n",
       "    <tr style=\"text-align: right;\">\n",
       "      <th></th>\n",
       "      <th>review_score</th>\n",
       "      <th>comentario_positivo</th>\n",
       "    </tr>\n",
       "  </thead>\n",
       "  <tbody>\n",
       "    <tr>\n",
       "      <th>review_score</th>\n",
       "      <td>1.000000</td>\n",
       "      <td>0.034827</td>\n",
       "    </tr>\n",
       "    <tr>\n",
       "      <th>comentario_positivo</th>\n",
       "      <td>0.034827</td>\n",
       "      <td>1.000000</td>\n",
       "    </tr>\n",
       "  </tbody>\n",
       "</table>\n",
       "</div>"
      ],
      "text/plain": [
       "                     review_score  comentario_positivo\n",
       "review_score             1.000000             0.034827\n",
       "comentario_positivo      0.034827             1.000000"
      ]
     },
     "metadata": {},
     "output_type": "display_data"
    },
    {
     "data": {
      "image/png": "[encoded data removed]",
      "text/plain": [
       "<Figure size 640x480 with 2 Axes>"
      ]
     },
     "metadata": {},
     "output_type": "display_data"
    }
   ],
   "source": [
    "#Calcula a matriz de correlação para as variaveis numéricas no df, criando uma tabela de correlação\n",
    "df_correlation = df[['review_score', 'comentario_positivo']].corr()\n",
    "\n",
    "#Exibe a tabela de correlação \n",
    "print('\\n\\nMatriz de correlação: ')\n",
    "display(df_correlation)\n",
    "\n",
    "#Cria um mapa de calor para visualizar a matrix de correlação\n",
    "sns.heatmap(df_correlation,\n",
    "            annot=True,\n",
    "            xticklabels=df_correlation.columns,\n",
    "            yticklabels=df_correlation.columns)\n",
    "\n",
    "plt.title('Correlação')\n",
    "plt.show()"
   ]
  },
  {
   "cell_type": "markdown",
   "metadata": {},
   "source": [
    "Mesmo com a correlação sendo muito baixa, isso pode ser devido ao excesso de emojis utilizados pelos usuários, o que dificulda o trabalho do LLM de identificar a positividade do comentário."
   ]
  }
 ],
 "metadata": {
  "kernelspec": {
   "display_name": "venv",
   "language": "python",
   "name": "python3"
  },
  "language_info": {
   "codemirror_mode": {
    "name": "ipython",
    "version": 3
   },
   "file_extension": ".py",
   "mimetype": "text/x-python",
   "name": "python",
   "nbconvert_exporter": "python",
   "pygments_lexer": "ipython3",
   "version": "3.10.5"
  }
 },
 "nbformat": 4,
 "nbformat_minor": 2
}
